{
 "cells": [
  {
   "cell_type": "code",
   "execution_count": 4,
   "id": "bcf292c3-d140-4457-a9ad-27fea766f4fc",
   "metadata": {},
   "outputs": [
    {
     "name": "stdout",
     "output_type": "stream",
     "text": [
      "  smoker    avg_charge\n",
      "0     no   8434.268298\n",
      "1    yes  32050.231832\n",
      "      region    avg_charge\n",
      "0  northeast  13406.384516\n",
      "1  northwest  12417.575374\n",
      "2  southeast  14735.411438\n",
      "3  southwest  12346.937377\n",
      "   age    avg_charge\n",
      "0   18   7086.217556\n",
      "1   19   9747.909335\n",
      "2   20  10159.697736\n",
      "3   21   4730.464330\n",
      "4   22  10012.932802\n",
      "5   23  12419.820040\n",
      "6   24  10648.015962\n",
      "7   25   9838.365311\n",
      "8   26   6133.825309\n",
      "9   27  12184.701721\n"
     ]
    }
   ],
   "source": [
    "import pandas as pd\n",
    "import sqlite3\n",
    "\n",
    "# Load cleaned data\n",
    "df = pd.read_csv(\"../data/cleaned_insurance.csv\")\n",
    "\n",
    "# Create an in-memory SQLite database\n",
    "conn = sqlite3.connect(\":memory:\")\n",
    "\n",
    "# Load the DataFrame into SQL\n",
    "df.to_sql(\"insurance\", conn, index=False, if_exists=\"replace\")\n",
    "\n",
    "# Sample SQL queries\n",
    "query1 = \"SELECT smoker, AVG(charges) as avg_charge FROM insurance GROUP BY smoker;\"\n",
    "query2 = \"SELECT region, AVG(charges) as avg_charge FROM insurance GROUP BY region;\"\n",
    "query3 = \"SELECT age, AVG(charges) as avg_charge FROM insurance GROUP BY age ORDER BY age;\"\n",
    "\n",
    "# Run and print results\n",
    "print(pd.read_sql(query1, conn))\n",
    "print(pd.read_sql(query2, conn))\n",
    "print(pd.read_sql(query3, conn).head(10))  # First 10 rows only"
   ]
  },
  {
   "cell_type": "code",
   "execution_count": null,
   "id": "2e4093e4-f50f-4d1c-aae8-3af206e83b9d",
   "metadata": {},
   "outputs": [],
   "source": []
  }
 ],
 "metadata": {
  "kernelspec": {
   "display_name": "Python 3 (ipykernel)",
   "language": "python",
   "name": "python3"
  },
  "language_info": {
   "codemirror_mode": {
    "name": "ipython",
    "version": 3
   },
   "file_extension": ".py",
   "mimetype": "text/x-python",
   "name": "python",
   "nbconvert_exporter": "python",
   "pygments_lexer": "ipython3",
   "version": "3.13.5"
  }
 },
 "nbformat": 4,
 "nbformat_minor": 5
}
